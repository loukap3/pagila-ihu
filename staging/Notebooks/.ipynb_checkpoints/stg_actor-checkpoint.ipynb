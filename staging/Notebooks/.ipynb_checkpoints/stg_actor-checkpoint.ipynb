{
 "cells": [
  {
   "cell_type": "markdown",
   "metadata": {
    "id": "9HqTeSBGu11v"
   },
   "source": [
    "# Setup - Install Libraries"
   ]
  },
  {
   "cell_type": "code",
   "execution_count": null,
   "metadata": {
    "ExecuteTime": {
     "end_time": "2024-09-09T12:20:52.803599Z",
     "start_time": "2024-09-09T12:20:52.801446Z"
    },
    "id": "i9MWENRZv6wi"
   },
   "outputs": [],
   "source": [
    "# Run the following commands once, in order to install libraries - DO NOT Uncomment this line.\n",
    "\n",
    "# Uncomment below lines\n",
    "\n",
    "# !pip3 install --upgrade pip\n",
    "# !pip3 install google-cloud-bigquery\n",
    "# !pip3 install pandas-gbq -U\n",
    "# !pip3 install db-dtypes\n",
    "# !pip3 install packaging --upgrade"
   ]
  },
  {
   "cell_type": "markdown",
   "metadata": {
    "id": "_CpT-WJ36NGL"
   },
   "source": [
    "# Import libraries"
   ]
  },
  {
   "cell_type": "code",
   "execution_count": 7,
   "metadata": {
    "ExecuteTime": {
     "end_time": "2024-09-09T12:20:53.237986Z",
     "start_time": "2024-09-09T12:20:52.804689Z"
    },
    "colab": {
     "base_uri": "https://localhost:8080/"
    },
    "id": "sSRmqrbW0g6l",
    "outputId": "202e3a2a-953a-4ee3-f431-3e234b2435c6"
   },
   "outputs": [
    {
     "name": "stderr",
     "output_type": "stream",
     "text": [
      "/Users/LoukasA/Library/Python/3.9/lib/python/site-packages/urllib3/__init__.py:35: NotOpenSSLWarning: urllib3 v2 only supports OpenSSL 1.1.1+, currently the 'ssl' module is compiled with 'LibreSSL 2.8.3'. See: https://github.com/urllib3/urllib3/issues/3020\n",
      "  warnings.warn(\n"
     ]
    },
    {
     "name": "stdout",
     "output_type": "stream",
     "text": [
      "Libraries imported successfully\n"
     ]
    }
   ],
   "source": [
    "# Import libraries\n",
    "from google.cloud import bigquery\n",
    "import pandas as pd\n",
    "from pandas_gbq import to_gbq\n",
    "import os\n",
    "\n",
    "print('Libraries imported successfully')"
   ]
  },
  {
   "cell_type": "code",
   "execution_count": 13,
   "metadata": {
    "ExecuteTime": {
     "end_time": "2024-09-09T12:20:53.241082Z",
     "start_time": "2024-09-09T12:20:53.239456Z"
    },
    "id": "FbCp3e1_v6wl"
   },
   "outputs": [],
   "source": [
    "# Set the environment variable for Google Cloud credentials\n",
    "# Place the path in which the .json file is located.\n",
    "\n",
    "# Example (if .json is located in the same directory with the notebook)\n",
    "# os.environ[\"GOOGLE_APPLICATION_CREDENTIALS\"] = \"at-arch-416714-6f9900ec7.json\"\n",
    "\n",
    "# -- YOUR CODE GOES BELOW THIS LINE\n",
    "os.environ[\"GOOGLE_APPLICATION_CREDENTIALS\"] = \"/Users/LoukasA/scripts/robust-arcadia-453221-u5-39c3cc6a4e86.json\" # Edit path\n",
    "# -- YOUR CODE GOES ABOVE THIS LINE"
   ]
  },
  {
   "cell_type": "code",
   "execution_count": 14,
   "metadata": {
    "ExecuteTime": {
     "end_time": "2024-09-09T12:20:53.243286Z",
     "start_time": "2024-09-09T12:20:53.241699Z"
    },
    "id": "-iIRMevIsdUq"
   },
   "outputs": [],
   "source": [
    "# Set your Google Cloud project ID and BigQuery dataset details\n",
    "\n",
    "# -- YOUR CODE GOES BELOW THIS\n",
    "\n",
    "project_id = 'robust-arcadia-453221-u5' # Edit with your project id\n",
    "dataset_id = 'staging_db' # Modify the necessary schema name: staging_db, reporting_db etc.\n",
    "table_id = 'stg_actor' # Modify the necessary table name: stg_customer, stg_city etc.\n",
    "\n",
    "# -- YOUR CODE GOES ABOVE THIS LINE"
   ]
  },
  {
   "cell_type": "markdown",
   "metadata": {
    "id": "efce50tiu7jR"
   },
   "source": [
    "# SQL Query"
   ]
  },
  {
   "cell_type": "code",
   "execution_count": 15,
   "metadata": {
    "ExecuteTime": {
     "end_time": "2024-09-09T12:20:53.642883Z",
     "start_time": "2024-09-09T12:20:53.243836Z"
    },
    "colab": {
     "base_uri": "https://localhost:8080/",
     "height": 206
    },
    "id": "9twoCilaWEXU",
    "outputId": "613a2e44-40b0-47aa-a29f-4cacb6bf1784"
   },
   "outputs": [
    {
     "name": "stderr",
     "output_type": "stream",
     "text": [
      "/Users/LoukasA/Library/Python/3.9/lib/python/site-packages/google/cloud/bigquery/table.py:1900: UserWarning: BigQuery Storage module not found, fetch data with the REST endpoint instead.\n",
      "  warnings.warn(\n"
     ]
    },
    {
     "data": {
      "text/html": [
       "<div>\n",
       "<style scoped>\n",
       "    .dataframe tbody tr th:only-of-type {\n",
       "        vertical-align: middle;\n",
       "    }\n",
       "\n",
       "    .dataframe tbody tr th {\n",
       "        vertical-align: top;\n",
       "    }\n",
       "\n",
       "    .dataframe thead th {\n",
       "        text-align: right;\n",
       "    }\n",
       "</style>\n",
       "<table border=\"1\" class=\"dataframe\">\n",
       "  <thead>\n",
       "    <tr style=\"text-align: right;\">\n",
       "      <th></th>\n",
       "      <th>actor_id</th>\n",
       "      <th>actor_first_name</th>\n",
       "      <th>actor_last_name</th>\n",
       "      <th>actor_last_update</th>\n",
       "    </tr>\n",
       "  </thead>\n",
       "  <tbody>\n",
       "    <tr>\n",
       "      <th>0</th>\n",
       "      <td>182</td>\n",
       "      <td>DEBBIE</td>\n",
       "      <td>AKROYD</td>\n",
       "      <td>2022-02-15 09:34:33+00:00</td>\n",
       "    </tr>\n",
       "    <tr>\n",
       "      <th>1</th>\n",
       "      <td>92</td>\n",
       "      <td>KIRSTEN</td>\n",
       "      <td>AKROYD</td>\n",
       "      <td>2022-02-15 09:34:33+00:00</td>\n",
       "    </tr>\n",
       "    <tr>\n",
       "      <th>2</th>\n",
       "      <td>58</td>\n",
       "      <td>CHRISTIAN</td>\n",
       "      <td>AKROYD</td>\n",
       "      <td>2022-02-15 09:34:33+00:00</td>\n",
       "    </tr>\n",
       "    <tr>\n",
       "      <th>3</th>\n",
       "      <td>145</td>\n",
       "      <td>KIM</td>\n",
       "      <td>ALLEN</td>\n",
       "      <td>2022-02-15 09:34:33+00:00</td>\n",
       "    </tr>\n",
       "    <tr>\n",
       "      <th>4</th>\n",
       "      <td>194</td>\n",
       "      <td>MERYL</td>\n",
       "      <td>ALLEN</td>\n",
       "      <td>2022-02-15 09:34:33+00:00</td>\n",
       "    </tr>\n",
       "  </tbody>\n",
       "</table>\n",
       "</div>"
      ],
      "text/plain": [
       "   actor_id actor_first_name actor_last_name         actor_last_update\n",
       "0       182           DEBBIE          AKROYD 2022-02-15 09:34:33+00:00\n",
       "1        92          KIRSTEN          AKROYD 2022-02-15 09:34:33+00:00\n",
       "2        58        CHRISTIAN          AKROYD 2022-02-15 09:34:33+00:00\n",
       "3       145              KIM           ALLEN 2022-02-15 09:34:33+00:00\n",
       "4       194            MERYL           ALLEN 2022-02-15 09:34:33+00:00"
      ]
     },
     "execution_count": 15,
     "metadata": {},
     "output_type": "execute_result"
    }
   ],
   "source": [
    "# Create a BigQuery client\n",
    "client = bigquery.Client(project=project_id)\n",
    "\n",
    "# -- YOUR CODE GOES BELOW THIS LINE\n",
    "\n",
    "# Define your SQL query here\n",
    "query = \"\"\"\n",
    "with base as (\n",
    "  select *\n",
    "  from `robust-arcadia-453221-u5.pagila_productionpublic.actor` --Your table path\n",
    "  )\n",
    "\n",
    "  , final as (\n",
    "    select\n",
    "        actor_id\n",
    "        , first_name as actor_first_name\n",
    "        , last_name as actor_last_name\n",
    "        , last_update as actor_last_update\n",
    "   FROM base\n",
    "  )\n",
    "\n",
    "  select * from final\n",
    "\"\"\"\n",
    "\n",
    "# -- YOUR CODE GOES ABOVE THIS LINE\n",
    "\n",
    "# Execute the query and store the result in a dataframe\n",
    "df = client.query(query).to_dataframe()\n",
    "\n",
    "# Explore some records\n",
    "df.head()"
   ]
  },
  {
   "cell_type": "markdown",
   "metadata": {
    "id": "kvKJQgGgu-RC"
   },
   "source": [
    "# Write to BigQuery"
   ]
  },
  {
   "cell_type": "code",
   "execution_count": 16,
   "metadata": {
    "ExecuteTime": {
     "end_time": "2024-09-09T12:20:53.643721Z",
     "start_time": "2024-09-09T12:20:53.643716Z"
    },
    "id": "vUnvx_HisjA8"
   },
   "outputs": [],
   "source": [
    "# Define the full table ID\n",
    "full_table_id = f\"{project_id}.{dataset_id}.{table_id}\"\n",
    "\n",
    "# -- YOUR CODE GOES BELOW THIS LINE\n",
    "# Define table schema based on the project description\n",
    "\n",
    "schema = [\n",
    "    bigquery.SchemaField('actor_id', 'INTEGER'),\n",
    "    bigquery.SchemaField('actor_first_name', 'STRING'),\n",
    "    bigquery.SchemaField('actor_last_name', 'STRING'),\n",
    "    bigquery.SchemaField('actor_last_update', 'DATETIME'),\n",
    "    ]\n",
    "\n",
    "# -- YOUR CODE GOES ABOVE THIS LINE"
   ]
  },
  {
   "cell_type": "code",
   "execution_count": 17,
   "metadata": {
    "ExecuteTime": {
     "end_time": "2024-09-09T12:20:53.644223Z",
     "start_time": "2024-09-09T12:20:53.644217Z"
    },
    "id": "du1pI09fsnsg"
   },
   "outputs": [
    {
     "name": "stdout",
     "output_type": "stream",
     "text": [
      "Table robust-arcadia-453221-u5.staging_db.stg_actor did not exist. Created and data loaded.\n"
     ]
    }
   ],
   "source": [
    "# Create a BigQuery client\n",
    "client = bigquery.Client(project=project_id)\n",
    "\n",
    "# Check if the table exists\n",
    "def table_exists(client, full_table_id):\n",
    "    try:\n",
    "        client.get_table(full_table_id)\n",
    "        return True\n",
    "    except Exception:\n",
    "        return False\n",
    "\n",
    "# Write the dataframe to the table (overwrite if it exists, create if it doesn't)\n",
    "if table_exists(client, full_table_id):\n",
    "    # If the table exists, overwrite it\n",
    "    destination_table = f\"{dataset_id}.{table_id}\"\n",
    "    # Write the dataframe to the table (overwrite if it exists)\n",
    "    to_gbq(df, destination_table, project_id=project_id, if_exists='replace')\n",
    "    print(f\"Table {full_table_id} exists. Overwritten.\")\n",
    "else:\n",
    "    # If the table does not exist, create it\n",
    "    job_config = bigquery.LoadJobConfig(schema=schema)\n",
    "    job = client.load_table_from_dataframe(df, full_table_id, job_config=job_config)\n",
    "    job.result()  # Wait for the job to complete\n",
    "    print(f\"Table {full_table_id} did not exist. Created and data loaded.\")"
   ]
  }
 ],
 "metadata": {
  "colab": {
   "cell_execution_strategy": "setup",
   "provenance": []
  },
  "kernelspec": {
   "display_name": "Python 3 (ipykernel)",
   "language": "python",
   "name": "python3"
  },
  "language_info": {
   "codemirror_mode": {
    "name": "ipython",
    "version": 3
   },
   "file_extension": ".py",
   "mimetype": "text/x-python",
   "name": "python",
   "nbconvert_exporter": "python",
   "pygments_lexer": "ipython3",
   "version": "3.9.6"
  },
  "toc": {
   "base_numbering": 1,
   "nav_menu": {},
   "number_sections": true,
   "sideBar": true,
   "skip_h1_title": false,
   "title_cell": "Table of Contents",
   "title_sidebar": "Contents",
   "toc_cell": false,
   "toc_position": {},
   "toc_section_display": true,
   "toc_window_display": false
  }
 },
 "nbformat": 4,
 "nbformat_minor": 4
}
