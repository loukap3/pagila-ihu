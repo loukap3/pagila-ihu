{
 "cells": [
  {
   "cell_type": "markdown",
   "metadata": {
    "id": "9HqTeSBGu11v"
   },
   "source": [
    "# Setup - Install Libraries"
   ]
  },
  {
   "cell_type": "code",
   "execution_count": null,
   "metadata": {
    "ExecuteTime": {
     "end_time": "2024-09-09T12:20:52.803599Z",
     "start_time": "2024-09-09T12:20:52.801446Z"
    },
    "id": "i9MWENRZv6wi"
   },
   "outputs": [],
   "source": [
    "# Run the following commands once, in order to install libraries - DO NOT Uncomment this line.\n",
    "\n",
    "# Uncomment below lines\n",
    "\n",
    "# !pip3 install --upgrade pip\n",
    "# !pip3 install google-cloud-bigquery\n",
    "# !pip3 install pandas-gbq -U\n",
    "# !pip3 install db-dtypes\n",
    "# !pip3 install packaging --upgrade"
   ]
  },
  {
   "cell_type": "markdown",
   "metadata": {
    "id": "_CpT-WJ36NGL"
   },
   "source": [
    "# Import libraries"
   ]
  },
  {
   "cell_type": "code",
   "execution_count": 14,
   "metadata": {
    "ExecuteTime": {
     "end_time": "2024-09-09T12:20:53.237986Z",
     "start_time": "2024-09-09T12:20:52.804689Z"
    },
    "colab": {
     "base_uri": "https://localhost:8080/"
    },
    "id": "sSRmqrbW0g6l",
    "outputId": "202e3a2a-953a-4ee3-f431-3e234b2435c6"
   },
   "outputs": [
    {
     "name": "stdout",
     "output_type": "stream",
     "text": [
      "Libraries imported successfully\n"
     ]
    }
   ],
   "source": [
    "# Import libraries\n",
    "from google.cloud import bigquery\n",
    "import pandas as pd\n",
    "from pandas_gbq import to_gbq\n",
    "import os\n",
    "\n",
    "print('Libraries imported successfully')"
   ]
  },
  {
   "cell_type": "code",
   "execution_count": 15,
   "metadata": {
    "ExecuteTime": {
     "end_time": "2024-09-09T12:20:53.241082Z",
     "start_time": "2024-09-09T12:20:53.239456Z"
    },
    "id": "FbCp3e1_v6wl"
   },
   "outputs": [],
   "source": [
    "# Set the environment variable for Google Cloud credentials\n",
    "# Place the path in which the .json file is located.\n",
    "\n",
    "# Example (if .json is located in the same directory with the notebook)\n",
    "# os.environ[\"GOOGLE_APPLICATION_CREDENTIALS\"] = \"at-arch-416714-6f9900ec7.json\"\n",
    "\n",
    "# -- YOUR CODE GOES BELOW THIS LINE\n",
    "os.environ[\"GOOGLE_APPLICATION_CREDENTIALS\"] = \"/Users/LoukasA/scripts/robust-arcadia-453221-u5-39c3cc6a4e86.json\" # Edit path\n",
    "# -- YOUR CODE GOES ABOVE THIS LINE"
   ]
  },
  {
   "cell_type": "code",
   "execution_count": 16,
   "metadata": {
    "ExecuteTime": {
     "end_time": "2024-09-09T12:20:53.243286Z",
     "start_time": "2024-09-09T12:20:53.241699Z"
    },
    "id": "-iIRMevIsdUq"
   },
   "outputs": [],
   "source": [
    "# Set your Google Cloud project ID and BigQuery dataset details\n",
    "\n",
    "# -- YOUR CODE GOES BELOW THIS\n",
    "\n",
    "project_id = 'robust-arcadia-453221-u5' # Edit with your project id\n",
    "dataset_id = 'staging_db' # Modify the necessary schema name: staging_db, reporting_db etc.\n",
    "table_id = 'stg_film' # Modify the necessary table name: stg_customer, stg_city etc.\n",
    "\n",
    "# -- YOUR CODE GOES ABOVE THIS LINE"
   ]
  },
  {
   "cell_type": "markdown",
   "metadata": {
    "id": "efce50tiu7jR"
   },
   "source": [
    "# SQL Query"
   ]
  },
  {
   "cell_type": "code",
   "execution_count": 18,
   "metadata": {
    "ExecuteTime": {
     "end_time": "2024-09-09T12:20:53.642883Z",
     "start_time": "2024-09-09T12:20:53.243836Z"
    },
    "colab": {
     "base_uri": "https://localhost:8080/",
     "height": 206
    },
    "id": "9twoCilaWEXU",
    "outputId": "613a2e44-40b0-47aa-a29f-4cacb6bf1784"
   },
   "outputs": [
    {
     "name": "stderr",
     "output_type": "stream",
     "text": [
      "/Users/LoukasA/Library/Python/3.9/lib/python/site-packages/google/cloud/bigquery/table.py:1900: UserWarning: BigQuery Storage module not found, fetch data with the REST endpoint instead.\n",
      "  warnings.warn(\n"
     ]
    },
    {
     "data": {
      "text/html": [
       "<div>\n",
       "<style scoped>\n",
       "    .dataframe tbody tr th:only-of-type {\n",
       "        vertical-align: middle;\n",
       "    }\n",
       "\n",
       "    .dataframe tbody tr th {\n",
       "        vertical-align: top;\n",
       "    }\n",
       "\n",
       "    .dataframe thead th {\n",
       "        text-align: right;\n",
       "    }\n",
       "</style>\n",
       "<table border=\"1\" class=\"dataframe\">\n",
       "  <thead>\n",
       "    <tr style=\"text-align: right;\">\n",
       "      <th></th>\n",
       "      <th>film_id</th>\n",
       "      <th>film_title</th>\n",
       "      <th>film_description</th>\n",
       "      <th>film_language_id</th>\n",
       "      <th>film_original_language_id</th>\n",
       "      <th>film_rental_duration</th>\n",
       "      <th>film_rental_rate</th>\n",
       "      <th>film_length</th>\n",
       "      <th>film_replacement_cost</th>\n",
       "      <th>film_rating</th>\n",
       "      <th>film_last_update</th>\n",
       "      <th>film_special_features</th>\n",
       "      <th>film_fulltext</th>\n",
       "    </tr>\n",
       "  </thead>\n",
       "  <tbody>\n",
       "    <tr>\n",
       "      <th>0</th>\n",
       "      <td>606</td>\n",
       "      <td>MUMMY CREATURES</td>\n",
       "      <td>A Fateful Character Study of a Crocodile And a...</td>\n",
       "      <td>1</td>\n",
       "      <td>&lt;NA&gt;</td>\n",
       "      <td>3</td>\n",
       "      <td>0.990000000</td>\n",
       "      <td>160</td>\n",
       "      <td>15.990000000</td>\n",
       "      <td>NC-17</td>\n",
       "      <td>2022-09-10 16:46:03.905795+00:00</td>\n",
       "      <td>[\"Trailers\",\"Behind the Scenes\"]</td>\n",
       "      <td>'australia':19 'charact':5 'creatur':2 'crocod...</td>\n",
       "    </tr>\n",
       "    <tr>\n",
       "      <th>1</th>\n",
       "      <td>402</td>\n",
       "      <td>HARPER DYING</td>\n",
       "      <td>A Awe-Inspiring Reflection of a Woman And a Ca...</td>\n",
       "      <td>1</td>\n",
       "      <td>&lt;NA&gt;</td>\n",
       "      <td>3</td>\n",
       "      <td>0.990000000</td>\n",
       "      <td>52</td>\n",
       "      <td>15.990000000</td>\n",
       "      <td>G</td>\n",
       "      <td>2022-09-10 16:46:03.905795+00:00</td>\n",
       "      <td>[\"Trailers\"]</td>\n",
       "      <td>'awe':5 'awe-inspir':4 'cat':13 'confront':16 ...</td>\n",
       "    </tr>\n",
       "    <tr>\n",
       "      <th>2</th>\n",
       "      <td>26</td>\n",
       "      <td>ANNIE IDENTITY</td>\n",
       "      <td>A Amazing Panorama of a Pastry Chef And a Boat...</td>\n",
       "      <td>1</td>\n",
       "      <td>&lt;NA&gt;</td>\n",
       "      <td>3</td>\n",
       "      <td>0.990000000</td>\n",
       "      <td>86</td>\n",
       "      <td>15.990000000</td>\n",
       "      <td>G</td>\n",
       "      <td>2022-09-10 16:46:03.905795+00:00</td>\n",
       "      <td>[\"Commentaries\",\"Deleted Scenes\"]</td>\n",
       "      <td>'abandon':20 'amaz':4 'amus':21 'anni':1 'boat...</td>\n",
       "    </tr>\n",
       "    <tr>\n",
       "      <th>3</th>\n",
       "      <td>25</td>\n",
       "      <td>ANGELS LIFE</td>\n",
       "      <td>A Thoughtful Display of a Woman And a Astronau...</td>\n",
       "      <td>1</td>\n",
       "      <td>&lt;NA&gt;</td>\n",
       "      <td>3</td>\n",
       "      <td>2.990000000</td>\n",
       "      <td>74</td>\n",
       "      <td>15.990000000</td>\n",
       "      <td>G</td>\n",
       "      <td>2022-09-10 16:46:03.905795+00:00</td>\n",
       "      <td>[\"Trailers\"]</td>\n",
       "      <td>'angel':1 'astronaut':11 'battl':14 'berlin':1...</td>\n",
       "    </tr>\n",
       "    <tr>\n",
       "      <th>4</th>\n",
       "      <td>156</td>\n",
       "      <td>CLERKS ANGELS</td>\n",
       "      <td>A Thrilling Display of a Sumo Wrestler And a G...</td>\n",
       "      <td>1</td>\n",
       "      <td>&lt;NA&gt;</td>\n",
       "      <td>3</td>\n",
       "      <td>4.990000000</td>\n",
       "      <td>164</td>\n",
       "      <td>15.990000000</td>\n",
       "      <td>G</td>\n",
       "      <td>2022-09-10 16:46:03.905795+00:00</td>\n",
       "      <td>[\"Commentaries\"]</td>\n",
       "      <td>'angel':2 'baloon':20 'clerk':1 'confront':15 ...</td>\n",
       "    </tr>\n",
       "  </tbody>\n",
       "</table>\n",
       "</div>"
      ],
      "text/plain": [
       "   film_id       film_title  \\\n",
       "0      606  MUMMY CREATURES   \n",
       "1      402     HARPER DYING   \n",
       "2       26   ANNIE IDENTITY   \n",
       "3       25      ANGELS LIFE   \n",
       "4      156    CLERKS ANGELS   \n",
       "\n",
       "                                    film_description  film_language_id  \\\n",
       "0  A Fateful Character Study of a Crocodile And a...                 1   \n",
       "1  A Awe-Inspiring Reflection of a Woman And a Ca...                 1   \n",
       "2  A Amazing Panorama of a Pastry Chef And a Boat...                 1   \n",
       "3  A Thoughtful Display of a Woman And a Astronau...                 1   \n",
       "4  A Thrilling Display of a Sumo Wrestler And a G...                 1   \n",
       "\n",
       "   film_original_language_id  film_rental_duration film_rental_rate  \\\n",
       "0                       <NA>                     3      0.990000000   \n",
       "1                       <NA>                     3      0.990000000   \n",
       "2                       <NA>                     3      0.990000000   \n",
       "3                       <NA>                     3      2.990000000   \n",
       "4                       <NA>                     3      4.990000000   \n",
       "\n",
       "   film_length film_replacement_cost film_rating  \\\n",
       "0          160          15.990000000       NC-17   \n",
       "1           52          15.990000000           G   \n",
       "2           86          15.990000000           G   \n",
       "3           74          15.990000000           G   \n",
       "4          164          15.990000000           G   \n",
       "\n",
       "                  film_last_update              film_special_features  \\\n",
       "0 2022-09-10 16:46:03.905795+00:00   [\"Trailers\",\"Behind the Scenes\"]   \n",
       "1 2022-09-10 16:46:03.905795+00:00                       [\"Trailers\"]   \n",
       "2 2022-09-10 16:46:03.905795+00:00  [\"Commentaries\",\"Deleted Scenes\"]   \n",
       "3 2022-09-10 16:46:03.905795+00:00                       [\"Trailers\"]   \n",
       "4 2022-09-10 16:46:03.905795+00:00                   [\"Commentaries\"]   \n",
       "\n",
       "                                       film_fulltext  \n",
       "0  'australia':19 'charact':5 'creatur':2 'crocod...  \n",
       "1  'awe':5 'awe-inspir':4 'cat':13 'confront':16 ...  \n",
       "2  'abandon':20 'amaz':4 'amus':21 'anni':1 'boat...  \n",
       "3  'angel':1 'astronaut':11 'battl':14 'berlin':1...  \n",
       "4  'angel':2 'baloon':20 'clerk':1 'confront':15 ...  "
      ]
     },
     "execution_count": 18,
     "metadata": {},
     "output_type": "execute_result"
    }
   ],
   "source": [
    "# Create a BigQuery client\n",
    "client = bigquery.Client(project=project_id)\n",
    "\n",
    "# -- YOUR CODE GOES BELOW THIS LINE\n",
    "\n",
    "# Define your SQL query here\n",
    "query = \"\"\"\n",
    "with base as (\n",
    "  select *\n",
    "  from `robust-arcadia-453221-u5.pagila_productionpublic.film` --Your table path\n",
    "  )\n",
    "\n",
    "  , final as (\n",
    "    select\n",
    "        film_id\n",
    "        , title as film_title\n",
    "        , description as film_description\n",
    "        , language_id as film_language_id\n",
    "        , original_language_id as film_original_language_id\n",
    "        , rental_duration as film_rental_duration\n",
    "        , rental_rate as film_rental_rate\n",
    "        , length as film_length\n",
    "        , replacement_cost as film_replacement_cost\n",
    "        , rating as film_rating\n",
    "        , last_update as film_last_update\n",
    "        , TO_JSON_STRING(special_features) as film_special_features\n",
    "        , fulltext as film_fulltext\n",
    "   FROM base\n",
    "  )\n",
    "\n",
    "  select * from final\n",
    "\"\"\"\n",
    "\n",
    "# -- YOUR CODE GOES ABOVE THIS LINE\n",
    "\n",
    "# Execute the query and store the result in a dataframe\n",
    "df = client.query(query).to_dataframe()\n",
    "\n",
    "# Explore some records\n",
    "df.head()"
   ]
  },
  {
   "cell_type": "markdown",
   "metadata": {
    "id": "kvKJQgGgu-RC"
   },
   "source": [
    "# Write to BigQuery"
   ]
  },
  {
   "cell_type": "code",
   "execution_count": 19,
   "metadata": {
    "ExecuteTime": {
     "end_time": "2024-09-09T12:20:53.643721Z",
     "start_time": "2024-09-09T12:20:53.643716Z"
    },
    "id": "vUnvx_HisjA8"
   },
   "outputs": [],
   "source": [
    "# Define the full table ID\n",
    "full_table_id = f\"{project_id}.{dataset_id}.{table_id}\"\n",
    "\n",
    "# -- YOUR CODE GOES BELOW THIS LINE\n",
    "# Define table schema based on the project description\n",
    "\n",
    "schema = [\n",
    "    bigquery.SchemaField('film_id', 'INTEGER'),\n",
    "    bigquery.SchemaField('film_title', 'STRING'),\n",
    "    bigquery.SchemaField('film_description', 'STRING'),\n",
    "    bigquery.SchemaField('film_language_id', 'INTEGER'),\n",
    "    bigquery.SchemaField('film_original_language_id', 'INTEGER'),\n",
    "    bigquery.SchemaField('film_rental_duration', 'INTEGER'),\n",
    "    bigquery.SchemaField('film_rental_rate', 'NUMERIC'),\n",
    "    bigquery.SchemaField('film_length', 'INTEGER'),\n",
    "    bigquery.SchemaField('film_replacement_cost', 'NUMERIC'),\n",
    "    bigquery.SchemaField('film_rating', 'STRING'),\n",
    "    bigquery.SchemaField('film_last_update', 'DATETIME'),\n",
    "    bigquery.SchemaField('film_special_features', 'STRING'),\n",
    "    bigquery.SchemaField('film_fulltext', 'STRING'),\n",
    "    ]\n",
    "\n",
    "# -- YOUR CODE GOES ABOVE THIS LINE"
   ]
  },
  {
   "cell_type": "code",
   "execution_count": 20,
   "metadata": {
    "ExecuteTime": {
     "end_time": "2024-09-09T12:20:53.644223Z",
     "start_time": "2024-09-09T12:20:53.644217Z"
    },
    "id": "du1pI09fsnsg"
   },
   "outputs": [
    {
     "name": "stdout",
     "output_type": "stream",
     "text": [
      "Table robust-arcadia-453221-u5.staging_db.stg_film did not exist. Created and data loaded.\n"
     ]
    }
   ],
   "source": [
    "# Create a BigQuery client\n",
    "client = bigquery.Client(project=project_id)\n",
    "\n",
    "# Check if the table exists\n",
    "def table_exists(client, full_table_id):\n",
    "    try:\n",
    "        client.get_table(full_table_id)\n",
    "        return True\n",
    "    except Exception:\n",
    "        return False\n",
    "\n",
    "# Write the dataframe to the table (overwrite if it exists, create if it doesn't)\n",
    "if table_exists(client, full_table_id):\n",
    "    # If the table exists, overwrite it\n",
    "    destination_table = f\"{dataset_id}.{table_id}\"\n",
    "    # Write the dataframe to the table (overwrite if it exists)\n",
    "    to_gbq(df, destination_table, project_id=project_id, if_exists='replace')\n",
    "    print(f\"Table {full_table_id} exists. Overwritten.\")\n",
    "else:\n",
    "    # If the table does not exist, create it\n",
    "    job_config = bigquery.LoadJobConfig(schema=schema)\n",
    "    job = client.load_table_from_dataframe(df, full_table_id, job_config=job_config)\n",
    "    job.result()  # Wait for the job to complete\n",
    "    print(f\"Table {full_table_id} did not exist. Created and data loaded.\")"
   ]
  }
 ],
 "metadata": {
  "colab": {
   "cell_execution_strategy": "setup",
   "provenance": []
  },
  "kernelspec": {
   "display_name": "Python 3 (ipykernel)",
   "language": "python",
   "name": "python3"
  },
  "language_info": {
   "codemirror_mode": {
    "name": "ipython",
    "version": 3
   },
   "file_extension": ".py",
   "mimetype": "text/x-python",
   "name": "python",
   "nbconvert_exporter": "python",
   "pygments_lexer": "ipython3",
   "version": "3.9.6"
  },
  "toc": {
   "base_numbering": 1,
   "nav_menu": {},
   "number_sections": true,
   "sideBar": true,
   "skip_h1_title": false,
   "title_cell": "Table of Contents",
   "title_sidebar": "Contents",
   "toc_cell": false,
   "toc_position": {},
   "toc_section_display": true,
   "toc_window_display": false
  }
 },
 "nbformat": 4,
 "nbformat_minor": 4
}
